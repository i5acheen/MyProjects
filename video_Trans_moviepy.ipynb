{
 "cells": [
  {
   "cell_type": "code",
   "execution_count": null,
   "metadata": {},
   "outputs": [
    {
     "name": "stdout",
     "output_type": "stream",
     "text": [
      "Processing video: C:\\Users\\sachinza\\Downloads\\WMS Testing Handover-20240625_154217-Meeting Recording.mp4...\n",
      "MoviePy - Writing audio in C:\\Users\\sachinza\\Downloads\\WMS Testing Handover-20240625_154217-Meeting Recording.wav\n"
     ]
    },
    {
     "name": "stderr",
     "output_type": "stream",
     "text": [
      "                                                                        \r"
     ]
    },
    {
     "name": "stdout",
     "output_type": "stream",
     "text": [
      "MoviePy - Done.\n",
      "Transcription completed.\n",
      "Transcription saved to: transcriptions\\WMS Testing Handover-20240625_154217-Meeting Recording_transcript.txt\n"
     ]
    }
   ],
   "source": [
    "# Importing the necessary modules from moviepy to handle video files\n",
    "from moviepy.editor import VideoFileClip\n",
    "# Importing the Whisper library to use for transcription of audio files\n",
    "import whisper\n",
    "# Importing the os module to interact with the operating system, such as handling file paths\n",
    "import os\n",
    "\n",
    "# Define a class for video transcription\n",
    "class VideoTranscriber:\n",
    "    # Initialize the class with the model size ('base' is the default)\n",
    "    def __init__(self, model_size: str = 'base'):\n",
    "        # Load the Whisper model of the specified size (e.g., 'base')\n",
    "        self.model = whisper.load_model(model_size)\n",
    "\n",
    "    # Define the function to transcribe the audio from a video file\n",
    "    def transcribe_video(self, video_path: str, output_dir: str = 'transcriptions'):\n",
    "        # Create the output directory to store transcriptions if it does not already exist\n",
    "        os.makedirs(output_dir, exist_ok=True)\n",
    "        # Print a message to indicate the video is being processed\n",
    "        print(f\"Processing video: {video_path}...\")\n",
    "\n",
    "        # Load the video file using MoviePy's VideoFileClip\n",
    "        video = VideoFileClip(video_path)\n",
    "        # Generate the audio file path by changing the video extension to .wav\n",
    "        audio_path = os.path.splitext(video_path)[0] + \".wav\"\n",
    "        # Write the extracted audio from the video to the specified audio file path\n",
    "        video.audio.write_audiofile(audio_path)\n",
    "\n",
    "        # Use the Whisper model to transcribe the extracted audio file\n",
    "        result = self.model.transcribe(audio_path)\n",
    "        # Print a message to indicate that transcription is complete\n",
    "        print(\"Transcription completed.\")\n",
    "\n",
    "        # Get the base name of the video file (without directory and extension)\n",
    "        base_name = os.path.splitext(os.path.basename(video_path))[0]\n",
    "        # Define the path for the transcription text file\n",
    "        text_file = os.path.join(output_dir, f\"{base_name}_transcript.txt\")\n",
    "        # Open the text file in write mode and write the transcribed text to it\n",
    "        with open(text_file, 'w', encoding='utf-8') as f:\n",
    "            f.write(result[\"text\"])\n",
    "        # Print a message to confirm that the transcription has been saved\n",
    "        print(f\"Transcription saved to: {text_file}\")\n",
    "        # Return the result (including transcribed text and metadata)\n",
    "        return result\n",
    "\n",
    "# Define the main function to start the transcription process\n",
    "def main():\n",
    "    # Specify the path to the video you want to transcribe\n",
    "    video_path = r\"C:\\Users\\sachinza\\Downloads\\Sample Video.mp4\"\n",
    "    # Create an instance of the VideoTranscriber class with the base model\n",
    "    transcriber = VideoTranscriber(model_size='base')\n",
    "    # Call the transcribe_video method to transcribe the video at the specified path\n",
    "    transcriber.transcribe_video(video_path)\n",
    "\n",
    "# This checks if the script is being executed directly (not imported as a module)\n",
    "if __name__ == \"__main__\":\n",
    "    # If the script is being run directly, call the main function\n",
    "    main()\n"
   ]
  }
 ],
 "metadata": {
  "kernelspec": {
   "display_name": "myenv",
   "language": "python",
   "name": "python3"
  },
  "language_info": {
   "codemirror_mode": {
    "name": "ipython",
    "version": 3
   },
   "file_extension": ".py",
   "mimetype": "text/x-python",
   "name": "python",
   "nbconvert_exporter": "python",
   "pygments_lexer": "ipython3",
   "version": "3.12.3"
  }
 },
 "nbformat": 4,
 "nbformat_minor": 2
}
